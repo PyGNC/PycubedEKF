{
 "cells": [
  {
   "cell_type": "code",
   "execution_count": 1,
   "metadata": {},
   "outputs": [],
   "source": [
    "#Create GPS data with desired accuracy\n",
    "using LinearAlgebra\n",
    "using ForwardDiff\n",
    "using SatelliteDynamics\n",
    "using DelimitedFiles"
   ]
  },
  {
   "cell_type": "code",
   "execution_count": 8,
   "metadata": {},
   "outputs": [
    {
     "data": {
      "text/plain": [
       "ground_truth_dynamics (generic function with 1 method)"
      ]
     },
     "metadata": {},
     "output_type": "display_data"
    }
   ],
   "source": [
    "#accurate dynamics\n",
    "\n",
    "#epc is the current epoch (current time), and x is the state\n",
    "\n",
    "#accurate dynamics. considers gravity, J2, drag, solar radiation\n",
    "#pressure, and the effect of other bodies (sun/moon)\n",
    "\n",
    "#ẋ = f(x,t)\n",
    "function ground_truth_dynamics(x, epc)\n",
    "    \n",
    "    r = x[1:3] #satellite position in inertial frame\n",
    "    v = x[4:6] #satellite velocity in inertial frame\n",
    "        \n",
    "    #gives a rotation matrix\n",
    "    PN = bias_precession_nutation(epc)\n",
    "    \n",
    "    #Compute the sun and moon positions in ECI frame\n",
    "    r_sun = sun_position(epc)\n",
    "    r_moon = moon_position(epc)\n",
    "    \n",
    "    #define the acceleration variable\n",
    "    a = zeros(eltype(x), 3)\n",
    "    \n",
    "    #compute acceleration caused by Earth gravity (includes J2)\n",
    "    #modeled by a spherical harmonic gravity field\n",
    "    #look up this term. seems to give a rotation matrix\n",
    "    PN = bias_precession_nutation(epc)\n",
    "    Earth_r = earth_rotation(epc)\n",
    "    rpm  = polar_motion(epc) \n",
    "\n",
    "    R = rpm*Earth_r*PN\n",
    "    #10th order gravity\n",
    "    n_grav = 10\n",
    "    m_grav = 10\n",
    "    #main contribution in acceleration (seemed to not be equal to the Series Expansion of gravity)\n",
    "    a+= accel_gravity(x, R, n_grav, m_grav)\n",
    "    \n",
    "    a_grav = accel_gravity(x, R, n_grav, m_grav)\n",
    "    \n",
    "    #this is the gravity code that is used to find the difference between higher order model and J2 model \n",
    "    ###########################################################################################################\n",
    "    #compute the gravitational acceleration based off the series expansion up to J2\n",
    "    μ = 3.986004418e14 #m3/s2\n",
    "    J2 = 1.08264e-3 \n",
    "        \n",
    "    a_2bp = (-μ*r)/(norm(r))^3\n",
    "    \n",
    "    Iz = [0,0,1]\n",
    "    \n",
    "    a_J2 = ((3*μ*J2*R_EARTH^2)/(2*norm(r)^5))*((((5*dot(r, Iz)^2)/norm(r)^2)-1)*r - 2*dot(r,Iz)*Iz)     \n",
    "\n",
    "    a_process = a_2bp + a_J2\n",
    "    \n",
    "    #this is actual higher order\n",
    "    higher_order_unmodeled = a_grav - a_process\n",
    "    ############################################################################################################\n",
    "    \n",
    "    \n",
    "    \n",
    "    \n",
    "    #atmospheric drag using true of date coordinate system\n",
    "    ############################################################################################################\n",
    "    #atmospheric drag\n",
    "    #compute the atmospheric density from density harris priester model\n",
    "     ρ_est = density_harris_priester(epc,r)\n",
    "\n",
    "     #ρ = 1.15e-12 #fixed atmospheric density in kg/m3\n",
    "    \n",
    "     k_ρ_true = 1.0\n",
    "     #sinusoidal\n",
    "     #k_ρ_true = 0.1*sin(0.001*(epc-epc0))+1\n",
    "    \n",
    "     ρ_true = ρ_est*k_ρ_true\n",
    "    \n",
    "     #computes acceleration due to drag in inertial directions\n",
    "     cd = 2.0 #drag coefficient\n",
    "     area_drag = 0.1 #in m2 #area normal to the velocity direction\n",
    "     m = 1.0 #assuming unit mass\n",
    "    \n",
    "     #drag from satellite dynamics.jl\n",
    "     a += accel_drag(x, ρ_true, m, area_drag, cd, Array{Real,2}(PN))\n",
    "###############################################################################################################\n",
    "    \n",
    "    \n",
    "    #drag in ECI coordinates\n",
    "    \n",
    "    ##########################################3\n",
    "    \n",
    "    #k_ρ = 1.1\n",
    "    \n",
    "    #drag equation\n",
    "    #c_d = 2.0 #drag coefficient (dimensionless)\n",
    "    \n",
    "    #A = 0.1  #cross sectional area\n",
    "    \n",
    "    #rotation of the earth (rad/s)\n",
    "    #ω_earth = [0,0, OMEGA_EARTH]\n",
    "    \n",
    "    #v_rel = v - cross(ω_earth, r)\n",
    "    \n",
    "    #set a constant atmospheric density\n",
    "    #ρ_est = density_harris_priester(epc,r)\n",
    "    \n",
    "    #f_drag = -0.5*c_d*(A)*k_ρ*ρ_est*norm(v_rel)*v_rel\n",
    "    \n",
    "    #a+= f_drag\n",
    "    ##########################################\n",
    "    \n",
    "    #Solar Radiation Pressure\n",
    "    area_srp = 1.0\n",
    "    coef_srp = 1.8\n",
    "    a += accel_srp(x, r_sun, m, area_srp, coef_srp)\n",
    "    a_srp = accel_srp(x, r_sun, m, area_srp, coef_srp)\n",
    "    \n",
    "    #acceleration due to external bodies\n",
    "    a+= accel_thirdbody_sun(x, r_sun)\n",
    "    a_sun = accel_thirdbody_sun(x, r_sun)\n",
    "    \n",
    "    a+= accel_thirdbody_moon(x, r_moon)\n",
    "    a_moon = accel_thirdbody_moon(x, r_moon)\n",
    "    \n",
    "    #commented out higher order gravities\n",
    "    a_unmodeled = a_srp + a_sun + a_moon + higher_order_unmodeled\n",
    "            \n",
    "    xdot = x[4:6]\n",
    "    vdot = a\n",
    "    \n",
    "    x_dot = [xdot; vdot]\n",
    "    \n",
    "    return x_dot, a_unmodeled, higher_order_unmodeled, ρ_est \n",
    "    \n",
    "end"
   ]
  },
  {
   "cell_type": "code",
   "execution_count": 3,
   "metadata": {},
   "outputs": [
    {
     "data": {
      "text/plain": [
       "Epoch(2012-11-08T11:59:25.000Z)"
      ]
     },
     "metadata": {},
     "output_type": "display_data"
    }
   ],
   "source": [
    "epc0 = Epoch(2012, 11, 8, 12, 0, 0, 0.0)"
   ]
  },
  {
   "cell_type": "code",
   "execution_count": 4,
   "metadata": {},
   "outputs": [
    {
     "data": {
      "text/plain": [
       "Epoch(2012-11-08T13:33:53.144Z)"
      ]
     },
     "metadata": {},
     "output_type": "display_data"
    }
   ],
   "source": [
    "#wildlife tracking orbit\n",
    "iss1 = [6871e3, 0.0004879, 90.6391, 194.5859, 151.2014, 190]; \n",
    "\n",
    "# Convert osculating elements to Cartesean state\n",
    "# returns position and velocity (m, m/s). This is the intial position\n",
    "eci0_1 = sOSCtoCART(iss1, use_degrees=true)\n",
    "\n",
    "#find the period of the orbit (seconds). only dependent on semi major axis\n",
    "T = orbit_period(iss1[1])\n",
    "\n",
    "#final time of simulation\n",
    "epcf = epc0 + T"
   ]
  },
  {
   "cell_type": "code",
   "execution_count": 5,
   "metadata": {},
   "outputs": [
    {
     "data": {
      "text/plain": [
       "6×6 Matrix{Float64}:\n",
       " 3.0e-10  0.0      0.0      0.0          0.0          0.0\n",
       " 0.0      3.0e-10  0.0      0.0          0.0          0.0\n",
       " 0.0      0.0      3.0e-10  0.0          0.0          0.0\n",
       " 0.0      0.0      0.0      8.33333e-12  0.0          0.0\n",
       " 0.0      0.0      0.0      0.0          8.33333e-12  0.0\n",
       " 0.0      0.0      0.0      0.0          0.0          8.33333e-12"
      ]
     },
     "metadata": {},
     "output_type": "display_data"
    }
   ],
   "source": [
    "#testing hand-tuned Q\n",
    "pose_std_dynamics = 3e-5 #these pose and velocity values are pretty good\n",
    "velocity_std_dynamics = 0.5e-5\n",
    "\n",
    "Q = I(6).*[ones(3)*(pose_std_dynamics^2)/3; ones(3)*(velocity_std_dynamics^2)/3]"
   ]
  },
  {
   "cell_type": "code",
   "execution_count": 6,
   "metadata": {},
   "outputs": [
    {
     "data": {
      "text/plain": [
       "satRK4 (generic function with 1 method)"
      ]
     },
     "metadata": {},
     "output_type": "display_data"
    }
   ],
   "source": [
    "function satRK4(x, tc)\n",
    "    \n",
    "    f1,_,_, _ = ground_truth_dynamics(x, tc) \n",
    "    f2,_,_, _ = ground_truth_dynamics(x+0.5*h*f1, tc+h/2)\n",
    "    f3,_,_, _ = ground_truth_dynamics(x+0.5*h*f2, tc+h/2)\n",
    "    f4,_,_, _ = ground_truth_dynamics(x+h*f3, tc+h)\n",
    "    \n",
    "    xnext = x+(h/6.0)*(f1+2*f2+2*f3+f4)\n",
    "            \n",
    "    return xnext\n",
    "    \n",
    "end"
   ]
  },
  {
   "cell_type": "code",
   "execution_count": 10,
   "metadata": {},
   "outputs": [
    {
     "data": {
      "text/plain": [
       "6×1134 Matrix{Float64}:\n",
       "    -6.29129e6     -6.34874e6     -6.40132e6  …     -6.20686e6     -6.27069e6\n",
       "    -1.66265e6     -1.67551e6     -1.68709e6        -1.64676e6     -1.66135e6\n",
       "    -2.21616e6     -2.03517e6     -1.85262e6        -2.4534e6      -2.27471e6\n",
       " -2394.97       -2200.95       -2005.21          -2648.63       -2457.13\n",
       "  -540.153       -488.913       -437.291          -608.782       -558.01\n",
       "  7206.15        7271.59        7331.44       …   7110.95        7183.72"
      ]
     },
     "metadata": {},
     "output_type": "display_data"
    }
   ],
   "source": [
    "#timestep\n",
    "h = 25\n",
    "\n",
    "#initial state\n",
    "x_0 = eci0_1\n",
    "\n",
    "#number of orbits to simulate\n",
    "orbit_num = 5\n",
    "\n",
    "#final time\n",
    "Tf = T*orbit_num\n",
    "\n",
    "#run the rk4\n",
    "t = Array(range(0,Tf, step=h)) #create a range to final time at constant time step\n",
    "    \n",
    "all_x = zeros(length(x_0), length(t)) #variable to store all x\n",
    "#all_fdrag = zeros(3, length(t))\n",
    "\n",
    "all_x[:,1] = x_0 #set the initial state\n",
    "\n",
    "\n",
    "for k=1:(length(t) - 1)\n",
    "\n",
    "    #get the current time\n",
    "    current_t = epc0+t[k]\n",
    "    \n",
    "    all_x[:,k+1] = satRK4(all_x[:,k], current_t) #calculate the next state\n",
    "\n",
    "end\n",
    "\n",
    "#contains all the ground truth states\n",
    "x_hist = all_x"
   ]
  },
  {
   "cell_type": "code",
   "execution_count": 12,
   "metadata": {},
   "outputs": [],
   "source": [
    "# save the ground truth data\n",
    "\n",
    "writedlm(\"groundtruth_data_chief.txt\", x_hist)"
   ]
  },
  {
   "cell_type": "code",
   "execution_count": 22,
   "metadata": {},
   "outputs": [
    {
     "data": {
      "text/plain": [
       "6×1134 Matrix{Float64}:\n",
       "    -6.29127e6     -6.34855e6     -6.40097e6  …     -6.02679e6     -6.10227e6\n",
       "    -1.66269e6     -1.67548e6     -1.68697e6        -1.6051e6      -1.62274e6\n",
       "    -2.21626e6     -2.03507e6     -1.85231e6        -2.89293e6     -2.71901e6\n",
       " -2388.38       -2194.35       -1998.59          -3112.19       -2926.16\n",
       "  -536.87        -485.627       -434.0            -730.491       -680.984\n",
       "  7214.47        7279.92        7339.77       …   6913.43        6999.74"
      ]
     },
     "metadata": {},
     "output_type": "display_data"
    }
   ],
   "source": [
    "#timestep\n",
    "h = 25\n",
    "\n",
    "#initial state\n",
    "x_0 = eci0_1\n",
    "x_0 = x_0 + diagm([100,100,100, 10,10,10])*randn(6)\n",
    "\n",
    "#number of orbits to simulate\n",
    "orbit_num = 5\n",
    "\n",
    "#final time\n",
    "Tf = T*orbit_num\n",
    "\n",
    "#run the rk4\n",
    "t = Array(range(0,Tf, step=h)) #create a range to final time at constant time step\n",
    "    \n",
    "all_x = zeros(length(x_0), length(t)) #variable to store all x\n",
    "#all_fdrag = zeros(3, length(t))\n",
    "\n",
    "all_x[:,1] = x_0 #set the initial state\n",
    "\n",
    "\n",
    "for k=1:(length(t) - 1)\n",
    "\n",
    "    #get the current time\n",
    "    current_t = epc0+t[k]\n",
    "    \n",
    "    all_x[:,k+1] = satRK4(all_x[:,k], current_t) #calculate the next state\n",
    "\n",
    "end\n",
    "\n",
    "#contains all the ground truth states\n",
    "x_hist1 = all_x"
   ]
  },
  {
   "cell_type": "code",
   "execution_count": 23,
   "metadata": {},
   "outputs": [],
   "source": [
    "writedlm(\"groundtruth_data_dep3.txt\", x_hist1)"
   ]
  }
 ],
 "metadata": {
  "kernelspec": {
   "display_name": "Julia 1.8.5",
   "language": "julia",
   "name": "julia-1.8"
  },
  "language_info": {
   "file_extension": ".jl",
   "mimetype": "application/julia",
   "name": "julia",
   "version": "1.8.5"
  }
 },
 "nbformat": 4,
 "nbformat_minor": 2
}
